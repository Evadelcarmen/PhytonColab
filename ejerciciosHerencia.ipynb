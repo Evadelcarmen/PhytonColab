{
  "nbformat": 4,
  "nbformat_minor": 0,
  "metadata": {
    "colab": {
      "provenance": [],
      "authorship_tag": "ABX9TyOVVPJgxHsNKCxfeTfmuL+J",
      "include_colab_link": true
    },
    "kernelspec": {
      "name": "python3",
      "display_name": "Python 3"
    },
    "language_info": {
      "name": "python"
    }
  },
  "cells": [
    {
      "cell_type": "markdown",
      "metadata": {
        "id": "view-in-github",
        "colab_type": "text"
      },
      "source": [
        "<a href=\"https://colab.research.google.com/github/Evadelcarmen/PhytonColab/blob/main/ejerciciosHerencia.ipynb\" target=\"_parent\"><img src=\"https://colab.research.google.com/assets/colab-badge.svg\" alt=\"Open In Colab\"/></a>"
      ]
    },
    {
      "cell_type": "code",
      "execution_count": 90,
      "metadata": {
        "id": "_dhrYmwIvSkS"
      },
      "outputs": [],
      "source": [
        "class Maestros():\n",
        "  def __init__(self,nombre,edad,materia):\n",
        "    self.nombre=nombre\n",
        "    self.edad=edad\n",
        "    self.materia=materia\n",
        "  def __repr__(self):\n",
        "    return'El maestro {} tiene {} años y imparte la materia {}'.format(self.nombre,self.edad,self.materia)\n",
        "\n",
        "class Estudiantes(Maestros):\n",
        "  def __init__(self,nombre,edad,materia,carrera):\n",
        "    self.carrera=carrera\n",
        "    super().__init__(nombre,edad,materia)\n",
        "  def descripcion(self):\n",
        "    return f\"El alumno {self.nombre} tiene {self.edad} y cursa la materia {self.materia} y estudia en la carrera de {self.carrera}\"\n",
        "\n",
        "\n",
        ""
      ]
    },
    {
      "cell_type": "markdown",
      "source": [],
      "metadata": {
        "id": "QZddcKRU-dGQ"
      }
    },
    {
      "cell_type": "code",
      "source": [
        "maestro1=Maestros(\"Carlos\",\"30 años\",\"Matematicas\")\n",
        "print(maestro1)\n",
        "estudiante=Estudiantes(\"Alonso\",\"18 años\",\"matematicas\",\"sistemas computacionales\")\n",
        "print(estudiante.descripcion())\n"
      ],
      "metadata": {
        "colab": {
          "base_uri": "https://localhost:8080/"
        },
        "id": "jVv1SBtG0ldf",
        "outputId": "d6f3a17f-2bf9-44e5-9839-2c477bb58c34"
      },
      "execution_count": 91,
      "outputs": [
        {
          "output_type": "stream",
          "name": "stdout",
          "text": [
            "El maestro Carlos tiene 30 años años y imparte la materia Matematicas\n",
            "El alumno Alonso tiene 18 años y cursa la materia matematicas y estudia en la carrera de sistemas computacionales\n"
          ]
        }
      ]
    },
    {
      "cell_type": "code",
      "source": [
        "class Kpop():\n",
        "  def __init__(self,nombre,integrantes,empresa):\n",
        "    self.nombre = nombre\n",
        "    self.integrantes = integrantes\n",
        "    self.empresa = empresa\n",
        "  def __repr__(self):\n",
        "    return f\"El grupo {self.nombre} tiene {self.integrantes} integrantes y trabaja en la empresa {self.empresa}\"\n",
        "\n",
        "class Enhypen(Kpop):\n",
        "  def __init__(self,nombre,integrantes,empresa,genero):\n",
        "    self.genero = genero\n",
        "    super().__init__(nombre,integrantes,empresa)\n",
        "  def info(self):\n",
        "      return f\"El grupo {self.nombre} tiene {self.integrantes} integrantes, y trabaja en la misma empresa que {grupo1.nombre} y es de genero {self.genero}\"\n"
      ],
      "metadata": {
        "id": "0gphqyrXA-ST"
      },
      "execution_count": 111,
      "outputs": []
    },
    {
      "cell_type": "code",
      "source": [
        "grupo1=Kpop(\"BTS\",7,\"Hybe corporation\")\n",
        "print(grupo1)\n",
        "grupo2=Enhypen(\"enhypen\",\"7\",\"Hybe corporation\",\"pop\")\n",
        "print(grupo2.info())"
      ],
      "metadata": {
        "colab": {
          "base_uri": "https://localhost:8080/"
        },
        "id": "ujx_tpsgCbNb",
        "outputId": "05bffc58-58d0-4068-ac5b-d801af169a6b"
      },
      "execution_count": 112,
      "outputs": [
        {
          "output_type": "stream",
          "name": "stdout",
          "text": [
            "El grupo BTS tiene 7 integrantes y trabaja en la empresa Hybe corporation\n",
            "El grupo enhypen tiene 7 integrantes, y trabaja en la misma empresa que BTS y es de genero pop\n"
          ]
        }
      ]
    },
    {
      "cell_type": "code",
      "source": [
        "class Trabajadores():\n",
        "  def __init__(self,nombre,edad,salario):\n",
        "    self.nombre = nombre\n",
        "    self.edad = edad\n",
        "    self.salario = salario\n",
        "  def __repr__(self):\n",
        "    return f\"El trabajador {self.nombre} tiene {self.edad} años y gana {self.salario} pesos a la semana\"\n",
        "class Gerente(Trabajadores):\n",
        "  def __init__(self,nombre,edad,salario,departamento):\n",
        "    self.departamento = departamento\n",
        "    super().__init__(nombre,edad,salario)\n",
        "  def ascender(self):\n",
        "    return f\"La gerente {self.nombre} fue ascendido al departamento de {self.departamento}\"\n",
        "\n",
        "class Programador(Gerente):\n",
        "  def __init__(self,nombre,edad,salario,departamento,lenguaje):\n",
        "    self.lenguaje = lenguaje\n",
        "    super().__init__(nombre,edad,salario,departamento)\n",
        "  def programar(self):\n",
        "    return f\"El programador {self.nombre} esta programando en {self.lenguaje} en el departamento {self.departamento} junto a {trabajador1.nombre}\""
      ],
      "metadata": {
        "id": "Q8o_7cPMHNjg"
      },
      "execution_count": 121,
      "outputs": []
    },
    {
      "cell_type": "code",
      "source": [
        "trabajador1=Trabajadores(\"Martin\",23,2000)\n",
        "print(trabajador1)\n",
        "trabajador2=Gerente(\"Alicia\",30,5000,\"ventas\")\n",
        "print(trabajador2.ascender())\n",
        "print(trabajador2)\n",
        "trabajador3=Programador(\"Marcos\",25,3000,\"programacion\",\"python\")\n",
        "print(trabajador3.programar())\n",
        "print(trabajador3)"
      ],
      "metadata": {
        "colab": {
          "base_uri": "https://localhost:8080/"
        },
        "id": "kLgQy_EYKGan",
        "outputId": "458b7200-911b-4d9a-c8ed-d6d78b7dc640"
      },
      "execution_count": 123,
      "outputs": [
        {
          "output_type": "stream",
          "name": "stdout",
          "text": [
            "El trabajador Martin tiene 23 años y gana 2000 pesos a la semana\n",
            "La gerente Alicia fue ascendido al departamento de ventas\n",
            "El trabajador Alicia tiene 30 años y gana 5000 pesos a la semana\n",
            "El programador Marcos esta programando en python en el departamento programacion junto a Martin\n",
            "El trabajador Marcos tiene 25 años y gana 3000 pesos a la semana\n"
          ]
        }
      ]
    }
  ]
}